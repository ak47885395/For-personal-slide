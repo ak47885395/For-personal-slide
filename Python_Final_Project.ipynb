{
 "cells": [
  {
   "cell_type": "code",
   "execution_count": 3,
   "metadata": {},
   "outputs": [
    {
     "name": "stdout",
     "output_type": "stream",
     "text": [
      "Requirement already satisfied: selenium in c:\\users\\user\\anaconda3\\lib\\site-packages (3.141.0)\n",
      "Requirement already satisfied: urllib3 in c:\\users\\user\\anaconda3\\lib\\site-packages (from selenium) (1.25.8)\n",
      "Note: you may need to restart the kernel to use updated packages.\n"
     ]
    }
   ],
   "source": [
    "pip install selenium"
   ]
  },
  {
   "cell_type": "code",
   "execution_count": 36,
   "metadata": {},
   "outputs": [],
   "source": [
    "import requests\n",
    "from bs4 import BeautifulSoup\n",
    "from selenium import webdriver\n",
    "from selenium.webdriver.support.ui import Select\n",
    "import time\n",
    "import pandas as pd"
   ]
  },
  {
   "cell_type": "code",
   "execution_count": 45,
   "metadata": {
    "scrolled": true
   },
   "outputs": [],
   "source": [
    "def sort(Mode):\n",
    "    if (Mode == '1'):\n",
    "        option = '符合度排序'\n",
    "    elif(Mode == '2'):\n",
    "        option = \"日期排序\"\n",
    "    el = browser.find_element_by_id(\"js-sort\")\n",
    "    for option in el.find_elements_by_tag_name('option'):\n",
    "        if option.text == option:\n",
    "            option.click() # select() in earlier versions of webdriver\n",
    "            break\n",
    "def web_crawler_104(SearchMode):\n",
    "    i=0\n",
    "    while(1):\n",
    "\n",
    "        html = browser.page_source\n",
    "        soup = BeautifulSoup(html)\n",
    "        company_list = soup.find(\"div\", attrs={'id':\"js-job-content\"}).find_all('article')   ##constantly get the new data\n",
    "\n",
    "        \n",
    "        if(SearchMode == '1'):\n",
    "            if(len(company_list)>=100):\n",
    "                my_company_list = company_list\n",
    "                break\n",
    "\n",
    "        elif(SearchMode == '2'):\n",
    "\n",
    "            Date_Lastest_str = company_list[-1].span.text.replace(' ','').replace('\\n','')  ###get the oldest time of the new data\n",
    "            Date_Lastest_struct = time.strptime ( Date_Lastest_str   ,   \"%m/%d\"  )\n",
    "\n",
    "            if (Date_Lastest_struct.tm_mday <= time_back_N_day.tm_mday):   ##   latest day may be N-1 or N \n",
    "                j=0\n",
    "                for j in range( 0,len(company_list) ):\n",
    "\n",
    "                    if len(company_list[j].span.text.replace(' ','').replace('\\n','')) != 0:  ## 104前面幾筆資料可能會沒有日期\n",
    "\n",
    "                        company_time = time.strptime(  company_list[j].span.text.replace(' ','').replace('\\n','')  ,     \"%m/%d\"  )\n",
    "\n",
    "                        j=j+1\n",
    "\n",
    "\n",
    "                        if(company_time.tm_mday <=time_back_N_day.tm_mday):\n",
    "\n",
    "                            break\n",
    "                break\n",
    "\n",
    "\n",
    "\n",
    "\n",
    "        browser.execute_script(\"window.scrollTo( 0 ,  document.body.scrollHeight  )\")   ## scroll the height of a page\n",
    "        try:\n",
    "            if soup.find_all(class_=\"js-more-page\") !=None:    ### 從點第一個開始，會有好個more-page\n",
    "                browser.find_elements_by_class_name ('js-more-page')[i].click()  ## 必須與更下面的more-page互動，所以弄成list，再選\n",
    "                i=i+1\n",
    "                print('sucessful_click')\n",
    "        except:   ##  因為一開始沒有可點選的按鈕，如果不加這個，會因為前面找不到按鈕程式就停下來\n",
    "            print('exception') \n",
    "\n",
    "        time.sleep(2) ## delay 一段時間等網頁回應再解析，否則會當掉\n",
    "\n",
    "    if(SearchMode == '2'):\n",
    "        k=0\n",
    "        company_list_TimeMatched = []  ##  重建一個符合時間的 company_list\n",
    "        #print(j)  ##這邊有點奇怪，不知道為甚麼break 之後 j自動+1了\n",
    "        for k in range(0,j-1):   #  j 是while迴圈break前符合需要時間的所有公司數量\n",
    "            company_list_TimeMatched.append(company_list[k])\n",
    "            k=k+1\n",
    "        my_company_list = company_list_TimeMatched\n",
    "    return my_company_list    \n",
    "def MyCompanyList(My_company_list):\n",
    "    company_name_address=[]  ##因爬取到的string有包含公司名子和住址，且是以跳行做 字的分隔，所以我先放在一個list裡，之後再用split分開list的元素\n",
    "    company_name=[]\n",
    "    company_address=[]\n",
    "    job_title=[]\n",
    "    job_class=[]\n",
    "    job_link=[]\n",
    "    job_content=[]\n",
    "    job_salary=[]\n",
    "    i=-1\n",
    "    for d in My_company_list:\n",
    "        company_name_address.append(d.find_all('li')[1].a['title'])\n",
    "        i=i+1\n",
    "\n",
    "        company_name.append(company_name_address[i].split('\\n')[0].replace('公司名：','')) \n",
    "        company_address.append(company_name_address[i].split('\\n')[1].replace('公司住址：','').replace('公司地址：',''))\n",
    "        '''  \n",
    "        Why?company_name_address[i].split('\\n')[0]:  因為company_name_address中含有很多個list，不能直接分割，分割後的第一個元素是名子\n",
    "        Why?replace:  因為稍後會放入dict，所以不需要多餘的字\n",
    "        ''' \n",
    "        job_title.append(d.a.text)  #職稱\n",
    "        \n",
    "        if(\"市\"  in d.find_all('li')[2].text):  ##前幾筆li這個標籤底下是抓到縣市，而不是職務名稱，所以加判斷式\n",
    "            job_class.append(\"無\")\n",
    "        else:\n",
    "            job_class.append(d.find_all('li')[2].text)   ###職務名稱\n",
    "\n",
    "        job_link.append(\"https:\"+ d.a['href'])  # 網址\n",
    "\n",
    "        job_content.append(d.p.text)  # 工作內容\n",
    "\n",
    "        job_salary.append(d.find('span' , attrs = {'class' , 'b-tag--default'}).text) # 薪資\n",
    "    Sum={\"公司名稱\":company_name,\"地址\":company_address,\"職稱\":job_title,\"職務類別\":job_class,\"網址\":job_link,\"薪資\":job_salary,\"工作內容\":job_content}\n",
    "    df=pd.DataFrame(Sum)\n",
    "    df.to_excel(\"output.xlsx\") \n",
    "    print(\"已成功產生Excel檔案!!\")\n",
    "\n",
    "##-----------------------------------------------------------Main---------------------------------------------------------\n",
    "\n",
    "\n"
   ]
  },
  {
   "cell_type": "code",
   "execution_count": 47,
   "metadata": {
    "scrolled": true
   },
   "outputs": [
    {
     "name": "stdout",
     "output_type": "stream",
     "text": [
      "請輸入已搜尋過的104人力銀行網頁https://www.104.com.tw/jobs/search/?ro=0&jobcat=2008001020%2C2008001016%2C2008001014&expansionType=area%2Cspec%2Ccom%2Cjob%2Cwf%2Cwktm&area=6001006000&order=11&asc=0&page=1&mode=s&jobsource=tab_cs_to_job\n",
      "請輸入要查詢的模式 1.符合度排序 2.日期排序  :2\n",
      "請輸入要查詢的天數:2\n",
      "exception\n",
      "exception\n",
      "已成功產生Excel檔案!!\n"
     ]
    }
   ],
   "source": [
    "\n",
    "\n",
    "job_104_url = input(\"請輸入已搜尋過的104人力銀行網頁\")\n",
    "browser = webdriver.Chrome()\n",
    "browser.get(job_104_url)\n",
    "search_mode = input(\"請輸入要查詢的模式 1.符合度排序 2.日期排序  :\")\n",
    "if (search_mode == '1'):\n",
    "    sort(search_mode)\n",
    "        \n",
    "    web_crawler_104(search_mode)\n",
    "    MyCompanyList(web_crawler_104(search_mode))\n",
    "        \n",
    "        \n",
    "elif(search_mode == '2'):\n",
    "        \n",
    "    sort(search_mode)\n",
    "        \n",
    "    time_back_N_day = int(input(\"請輸入要查詢的天數:\"))\n",
    "    within_N_day = time_back_N_day*24*60*60\n",
    "    time_back_N_day = time.localtime(time.time()-within_N_day)\n",
    "        \n",
    "        \n",
    "    web_crawler_104(search_mode)\n",
    "    MyCompanyList(web_crawler_104(search_mode))\n",
    "else:\n",
    "        print(\"請輸入正確的選項\")\n",
    "            \n",
    "            \n",
    "    \n",
    "\n",
    "\n"
   ]
  },
  {
   "cell_type": "code",
   "execution_count": null,
   "metadata": {},
   "outputs": [],
   "source": []
  },
  {
   "cell_type": "code",
   "execution_count": null,
   "metadata": {},
   "outputs": [],
   "source": []
  },
  {
   "cell_type": "code",
   "execution_count": null,
   "metadata": {},
   "outputs": [],
   "source": [
    "df.to_excel(\"output.xlsx\") "
   ]
  },
  {
   "cell_type": "code",
   "execution_count": 4,
   "metadata": {},
   "outputs": [
    {
     "ename": "NameError",
     "evalue": "name 'my_company_list' is not defined",
     "output_type": "error",
     "traceback": [
      "\u001b[1;31m---------------------------------------------------------------------------\u001b[0m",
      "\u001b[1;31mNameError\u001b[0m                                 Traceback (most recent call last)",
      "\u001b[1;32m<ipython-input-4-afd79fdf7a4c>\u001b[0m in \u001b[0;36m<module>\u001b[1;34m\u001b[0m\n\u001b[1;32m----> 1\u001b[1;33m \u001b[0mprint\u001b[0m\u001b[1;33m(\u001b[0m\u001b[0mmy_company_list\u001b[0m\u001b[1;33m)\u001b[0m\u001b[1;33m\u001b[0m\u001b[1;33m\u001b[0m\u001b[0m\n\u001b[0m",
      "\u001b[1;31mNameError\u001b[0m: name 'my_company_list' is not defined"
     ]
    }
   ],
   "source": []
  },
  {
   "cell_type": "code",
   "execution_count": 103,
   "metadata": {},
   "outputs": [],
   "source": [
    "sort_select = Select(browser.find_element_by_id(\"js-sort\"))"
   ]
  },
  {
   "cell_type": "code",
   "execution_count": 97,
   "metadata": {},
   "outputs": [
    {
     "name": "stdout",
     "output_type": "stream",
     "text": [
      "日期排序\n"
     ]
    }
   ],
   "source": [
    "sort = soup.find(id='js-sort').find_all('option', attrs={'selected':True})   ##其他沒被選到的為 False or None\n",
    "print(sort[0].text) ##記得find_all找出來的為list"
   ]
  },
  {
   "cell_type": "code",
   "execution_count": null,
   "metadata": {},
   "outputs": [],
   "source": []
  },
  {
   "cell_type": "code",
   "execution_count": null,
   "metadata": {},
   "outputs": [],
   "source": [
    "## https://kknews.cc/zh-tw/code/a3me3ln.html "
   ]
  }
 ],
 "metadata": {
  "kernelspec": {
   "display_name": "Python 3",
   "language": "python",
   "name": "python3"
  },
  "language_info": {
   "codemirror_mode": {
    "name": "ipython",
    "version": 3
   },
   "file_extension": ".py",
   "mimetype": "text/x-python",
   "name": "python",
   "nbconvert_exporter": "python",
   "pygments_lexer": "ipython3",
   "version": "3.7.6"
  }
 },
 "nbformat": 4,
 "nbformat_minor": 4
}
